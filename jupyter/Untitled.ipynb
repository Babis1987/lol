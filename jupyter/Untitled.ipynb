{
 "cells": [
  {
   "cell_type": "code",
   "execution_count": 1,
   "id": "936e9c45-24bb-43b1-8e68-1c92bf3a19cc",
   "metadata": {},
   "outputs": [],
   "source": [
    "import pandas as pd"
   ]
  },
  {
   "cell_type": "code",
   "execution_count": 2,
   "id": "881e8c22-841e-4f8f-8808-0e89aa635716",
   "metadata": {},
   "outputs": [],
   "source": [
    "import os"
   ]
  },
  {
   "cell_type": "code",
   "execution_count": 3,
   "id": "2c09149b-600b-4c9d-a582-d0d78c5eba40",
   "metadata": {},
   "outputs": [],
   "source": [
    "path = \"../data/\""
   ]
  },
  {
   "cell_type": "code",
   "execution_count": 4,
   "id": "a87c3e40-9a78-4394-94c9-6d0cc30f7b73",
   "metadata": {},
   "outputs": [],
   "source": [
    "files = os.listdir(path)"
   ]
  },
  {
   "cell_type": "code",
   "execution_count": 5,
   "id": "e8d5cc4a-ee63-41d5-9c92-aa6360778ad5",
   "metadata": {},
   "outputs": [
    {
     "name": "stderr",
     "output_type": "stream",
     "text": [
      "C:\\Users\\Administrator\\AppData\\Local\\Temp\\ipykernel_2336\\4196969651.py:3: DtypeWarning: Columns (2) have mixed types. Specify dtype option on import or set low_memory=False.\n",
      "  df_lst.append(pd.read_csv(path+file))\n",
      "C:\\Users\\Administrator\\AppData\\Local\\Temp\\ipykernel_2336\\4196969651.py:3: DtypeWarning: Columns (2) have mixed types. Specify dtype option on import or set low_memory=False.\n",
      "  df_lst.append(pd.read_csv(path+file))\n"
     ]
    }
   ],
   "source": [
    "df_lst = []\n",
    "for file in files:\n",
    "    df_lst.append(pd.read_csv(path+file))"
   ]
  },
  {
   "cell_type": "code",
   "execution_count": 6,
   "id": "21b531eb-0457-409a-b3d7-771c7d5a5c00",
   "metadata": {},
   "outputs": [],
   "source": [
    "total_df = pd.concat(df_lst)"
   ]
  },
  {
   "cell_type": "code",
   "execution_count": 10,
   "id": "d9bafdab-981d-4a7a-a915-f41bf398c84b",
   "metadata": {},
   "outputs": [
    {
     "data": {
      "text/plain": [
       "array(['gameid', 'datacompleteness', 'url', 'league', 'year', 'split',\n",
       "       'playoffs', 'date', 'game', 'patch', 'participantid', 'side',\n",
       "       'position', 'playername', 'playerid', 'teamname', 'teamid',\n",
       "       'champion', 'ban1', 'ban2', 'ban3', 'ban4', 'ban5', 'gamelength',\n",
       "       'result', 'kills', 'deaths', 'assists', 'teamkills', 'teamdeaths',\n",
       "       'doublekills', 'triplekills', 'quadrakills', 'pentakills',\n",
       "       'firstblood', 'firstbloodkill', 'firstbloodassist',\n",
       "       'firstbloodvictim', 'team kpm', 'ckpm', 'firstdragon', 'dragons',\n",
       "       'opp_dragons', 'elementaldrakes', 'opp_elementaldrakes',\n",
       "       'infernals', 'mountains', 'clouds', 'oceans', 'chemtechs',\n",
       "       'hextechs', 'dragons (type unknown)', 'elders', 'opp_elders',\n",
       "       'firstherald', 'heralds', 'opp_heralds', 'firstbaron', 'barons',\n",
       "       'opp_barons', 'firsttower', 'towers', 'opp_towers',\n",
       "       'firstmidtower', 'firsttothreetowers', 'turretplates',\n",
       "       'opp_turretplates', 'inhibitors', 'opp_inhibitors',\n",
       "       'damagetochampions', 'dpm', 'damageshare', 'damagetakenperminute',\n",
       "       'damagemitigatedperminute', 'wardsplaced', 'wpm', 'wardskilled',\n",
       "       'wcpm', 'controlwardsbought', 'visionscore', 'vspm', 'totalgold',\n",
       "       'earnedgold', 'earned gpm', 'earnedgoldshare', 'goldspent', 'gspd',\n",
       "       'total cs', 'minionkills', 'monsterkills', 'monsterkillsownjungle',\n",
       "       'monsterkillsenemyjungle', 'cspm', 'goldat10', 'xpat10', 'csat10',\n",
       "       'opp_goldat10', 'opp_xpat10', 'opp_csat10', 'golddiffat10',\n",
       "       'xpdiffat10', 'csdiffat10', 'killsat10', 'assistsat10',\n",
       "       'deathsat10', 'opp_killsat10', 'opp_assistsat10', 'opp_deathsat10',\n",
       "       'goldat15', 'xpat15', 'csat15', 'opp_goldat15', 'opp_xpat15',\n",
       "       'opp_csat15', 'golddiffat15', 'xpdiffat15', 'csdiffat15',\n",
       "       'killsat15', 'assistsat15', 'deathsat15', 'opp_killsat15',\n",
       "       'opp_assistsat15', 'opp_deathsat15'], dtype=object)"
      ]
     },
     "execution_count": 10,
     "metadata": {},
     "output_type": "execute_result"
    }
   ],
   "source": [
    "total_df.columns.values"
   ]
  },
  {
   "cell_type": "code",
   "execution_count": 11,
   "id": "495ac9f7-c584-470a-a91a-d02b199abd50",
   "metadata": {},
   "outputs": [
    {
     "data": {
      "text/plain": [
       "0       1\n",
       "1       1\n",
       "2       1\n",
       "3       1\n",
       "4       1\n",
       "       ..\n",
       "8827    1\n",
       "8828    1\n",
       "8829    1\n",
       "8830    0\n",
       "8831    1\n",
       "Name: result, Length: 885996, dtype: int64"
      ]
     },
     "execution_count": 11,
     "metadata": {},
     "output_type": "execute_result"
    }
   ],
   "source": [
    "total_df.result"
   ]
  },
  {
   "cell_type": "code",
   "execution_count": null,
   "id": "d274047d-e14b-4f30-8537-7012ac29dfd5",
   "metadata": {},
   "outputs": [],
   "source": []
  }
 ],
 "metadata": {
  "kernelspec": {
   "display_name": "Python (kaggle_env)",
   "language": "python",
   "name": "kaggle_env"
  },
  "language_info": {
   "codemirror_mode": {
    "name": "ipython",
    "version": 3
   },
   "file_extension": ".py",
   "mimetype": "text/x-python",
   "name": "python",
   "nbconvert_exporter": "python",
   "pygments_lexer": "ipython3",
   "version": "3.10.13"
  }
 },
 "nbformat": 4,
 "nbformat_minor": 5
}
